{
 "cells": [
  {
   "cell_type": "code",
   "execution_count": 1,
   "metadata": {
    "collapsed": true
   },
   "outputs": [],
   "source": [
    "from IPython.display import Math\n",
    "import math"
   ]
  },
  {
   "cell_type": "code",
   "execution_count": 2,
   "metadata": {},
   "outputs": [],
   "source": [
    "# Number of series LEDs\n",
    "N = 1\n",
    "# Single LED forward voltage\n",
    "VLED = 36 # Volts\n",
    "# Single LED dynamic resistance\n",
    "rLED = 0.02 # ohms\n",
    "# Nominal input voltage\n",
    "VIN = 14.4 # Volts nominal for 4S LiPo\n",
    "# Input voltage range\n",
    "VIN_MAX = 22.0 # Volts\n",
    "VIN_MIN = 9 # Volts\n",
    "# Switching frequency\n",
    "fSW = 500e3 # Hz \n",
    "# Current sense voltage\n",
    "VSNS = 100e-3 # Volts\n",
    "# Average LED current\n",
    "ILED = 1 # Amps\n",
    "# Inductor current ripple\n",
    "ΔiL_PP = 0.7 # Amps\n",
    "# LED current ripple\n",
    "ΔiLED_PP = 0.025 # Amps\n",
    "# Peak current limit\n",
    "ILIM = 2 # Amps\n",
    "# Output OVLO characteristics\n",
    "VTURN_OFF = 40 # Volts\n",
    "VHYSO = 38 # Volts\n",
    "# Intput UVLO characteristics\n",
    "VTURN_ON = 3.5*3\n",
    "VHYS = 3\n",
    "# Thermal foldback characteristics\n",
    "TBK = 85 # °C\n",
    "TEND = 100 # °C\n",
    "# Total start-up time\n",
    "tTSU = 0.05 # Seconds\n",
    "# nominal input voltage ripple (ΔvIN-PP)\n",
    "ΔVIN_PP = 0.1 # Volts"
   ]
  },
  {
   "cell_type": "code",
   "execution_count": 3,
   "metadata": {},
   "outputs": [
    {
     "name": "stdout",
     "output_type": "stream",
     "text": [
      "V_out = 36 V\n",
      "rD = 0.02 ohms\n",
      "D = 0.6000000000000001 \n",
      "DMIN = 0.3888888888888889 \n",
      "DMAX = 0.75 \n",
      "Dprime = 0.3999999999999999 \n"
     ]
    }
   ],
   "source": [
    "# Operating Point\n",
    "# Given the number of series LEDs (N), the forward voltage (VLED) and dynamic \n",
    "# resistance (rLED) for a single LED, solve for the nominal output voltage \n",
    "# (VO) and the nominal LED string dynamic resistance (rD):\n",
    "VO = N*VLED\n",
    "rD = N*rLED\n",
    "print(\"V_out =\", VO, \"V\")\n",
    "print(\"rD =\", rD, \"ohms\")\n",
    "\n",
    "# Solve for the ideal nominal duty cycle (D)\n",
    "# Boost Topology:\n",
    "D = (VO-VIN)/VO\n",
    "DMIN = (VO-VIN_MAX)/VO\n",
    "DMAX = (VO-VIN_MIN)/VO\n",
    "Dprime = 1-D\n",
    "print(\"D =\", D, \"\")\n",
    "print(\"DMIN =\", DMIN, \"\")\n",
    "print(\"DMAX =\", DMAX, \"\")\n",
    "print(\"Dprime =\", Dprime, \"\")"
   ]
  },
  {
   "cell_type": "code",
   "execution_count": 4,
   "metadata": {},
   "outputs": [
    {
     "name": "stdout",
     "output_type": "stream",
     "text": [
      "RT = 14424.999999999998 Ohms\n",
      "round to 14.5 kOhm\n"
     ]
    }
   ],
   "source": [
    "# Switching Frequency\n",
    "# Set the switching frequency (fSW) by solving for RT:\n",
    "RT = (1+1.95e-8 * fSW) / (1.4e-10 * fSW)\n",
    "print(\"RT =\", RT, \"Ohms\")\n",
    "print(\"round to 14.5 kOhm\")"
   ]
  },
  {
   "cell_type": "code",
   "execution_count": 5,
   "metadata": {},
   "outputs": [
    {
     "name": "stdout",
     "output_type": "stream",
     "text": [
      "RSNS = 0.1 Ohms\n",
      "RHSP = RHSN = 1000.0 Ohms\n"
     ]
    }
   ],
   "source": [
    "# Average LED Current\n",
    "# For all topologies, set the average LED current (ILED) knowing the desired \n",
    "# current sense voltage (VSNS) and solving for RSNS\n",
    "RSNS = VSNS / ILED\n",
    "print(\"RSNS =\", RSNS, \"Ohms\")\n",
    "# Setup the suggested signal current of 100 μA by assuming RCSH = 12.4 kΩ and solving for RHSP:\n",
    "RCSH = 12400\n",
    "RHSP = RHSN = (ILED * RCSH * RSNS)/1.24\n",
    "print(\"RHSP = RHSN =\", RHSP, \"Ohms\")"
   ]
  },
  {
   "cell_type": "code",
   "execution_count": 6,
   "metadata": {},
   "outputs": [
    {
     "name": "stdout",
     "output_type": "stream",
     "text": [
      "RNTC_BK = 8182.300000000001 Ohms\n",
      "RNTC_END = 4879.6 Ohms\n",
      "RBIAS = 8182.300000000001 Ohms\n",
      "RREF1 = RREF2 = 49900 Ohms\n",
      "RGAIN = 3097.4111729533984 Ohms\n"
     ]
    }
   ],
   "source": [
    "# Thermal Foldback\n",
    "# For all topologies, set the thermal foldback breakpoint (TBK) by finding \n",
    "# corresponding RNTC-BK from manufacturer's datasheet and solving for RBIAS:\n",
    "# Set Rref1 = Rref2\n",
    "Rt25_85 = 0.081823 # lookup from datasheet\n",
    "Rt25_100 = 0.048796 # lookup from datasheet \n",
    "RNTC_BK = 100000 * Rt25_85 \n",
    "RNTC_END = 100000 * Rt25_100\n",
    "print(\"RNTC_BK =\", RNTC_BK, \"Ohms\")\n",
    "print(\"RNTC_END =\", RNTC_END, \"Ohms\")\n",
    "\n",
    "RBIAS = RNTC_BK\n",
    "RREF1 = RREF2 = 49900\n",
    "ICSH  = 100e-6 # suggested signal current from TI\n",
    "RGAIN = (RREF1/(RREF1+RREF2) - RNTC_END/( RNTC_END + RBIAS)) * 2.45 / ICSH \n",
    "print(\"RBIAS =\", RBIAS, \"Ohms\")\n",
    "print(\"RREF1 = RREF2 =\", RREF1, \"Ohms\")\n",
    "print(\"RGAIN =\", RGAIN, \"Ohms\")"
   ]
  },
  {
   "cell_type": "code",
   "execution_count": 7,
   "metadata": {},
   "outputs": [
    {
     "name": "stdout",
     "output_type": "stream",
     "text": [
      "L1 = 2.468571428571429e-05 Henrys\n",
      "IL_RMS = 2.508153371174366 Amps\n"
     ]
    }
   ],
   "source": [
    "# Inductor Ripple Current\n",
    "# Set the nominal inductor ripple current (ΔiL-PP) by solving for the appropriate inductor (L1):\n",
    "# Boost and Buck-boost\n",
    "L1 = (VIN * D) / (ΔiL_PP * fSW)\n",
    "print(\"L1 =\", L1, \"Henrys\") # try MSS1583-183MEB 18uH 20% 11.2 A\n",
    "# To set the worst case inductor ripple current, use VIN-MAX and DMIN when solving for L1.\n",
    "# The minimum allowable inductor RMS current rating (IL-RMS) can be calculated as:\n",
    "# Boost and Buck-Boost\n",
    "IL_RMS = ILED / Dprime * math.sqrt(1+1/12*(ΔiL_PP*Dprime/ILED)**2)\n",
    "print(\"IL_RMS =\", IL_RMS, \"Amps\")"
   ]
  },
  {
   "cell_type": "code",
   "execution_count": 8,
   "metadata": {},
   "outputs": [
    {
     "name": "stdout",
     "output_type": "stream",
     "text": [
      "CO = 8.571428571428574e-05 Farads\n",
      "ICO_RMS = 1.7320508075688772 Amps\n"
     ]
    }
   ],
   "source": [
    "# LED Ripple Current\n",
    "# Set the nominal LED ripple current (ΔiLED-PP), by solving for the output capacitance (CO):\n",
    "# Boost and Buck-Boost\n",
    "CO = ILED*D/(rD*ΔiL_PP*fSW)\n",
    "print(\"CO =\", CO, \"Farads\")\n",
    "# To set the worst case LED ripple current, use DMAX when solving for CO. Remember, when PWM \n",
    "# dimming it is recommended to use a minimum of 40 μF of output capacitance to improve performance.\n",
    "# The minimum allowable RMS output capacitor current rating (ICO-RMS) can be approximated:\n",
    "# Boost and Buck-Boost\n",
    "ICO_RMS = ILED*math.sqrt(DMAX/(1-DMAX))\n",
    "print(\"ICO_RMS =\", ICO_RMS, \"Amps\")"
   ]
  },
  {
   "cell_type": "code",
   "execution_count": 9,
   "metadata": {},
   "outputs": [
    {
     "name": "stdout",
     "output_type": "stream",
     "text": [
      "RLIM = 0.1225 Ohms\n"
     ]
    }
   ],
   "source": [
    "# Peak Current Limit\n",
    "# Set the peak current limit (ILIM) by solving for the transistor path sense resistor (RLIM):\n",
    "RLIM = 0.245/ILIM\n",
    "print(\"RLIM =\", RLIM, \"Ohms\")"
   ]
  },
  {
   "cell_type": "code",
   "execution_count": 10,
   "metadata": {},
   "outputs": [
    {
     "name": "stdout",
     "output_type": "stream",
     "text": [
      "RSLP = 5820.798237591647 Ohms\n",
      "round to 407 kOhms\n"
     ]
    }
   ],
   "source": [
    "# Slope Compensation\n",
    "# For all topologies, the preferred method to set slope compensation is to ensure any duty \n",
    "# cycle is attainable for the nominal VO and chosen L by solving for RSLP:\n",
    "RSLP = 1.5e13*L1/(VO*RT*RLIM)\n",
    "print(\"RSLP =\", RSLP, \"Ohms\")\n",
    "print(\"round to 407 kOhms\")"
   ]
  },
  {
   "cell_type": "code",
   "execution_count": 11,
   "metadata": {},
   "outputs": [
    {
     "name": "stdout",
     "output_type": "stream",
     "text": [
      "CFS = 8.571428571428575e-09 Farads\n"
     ]
    }
   ],
   "source": [
    "# Loop Compensation\n",
    "# Using a simple first order peak current mode control model, neglecting any output \n",
    "# capacitor ESR dynamics, the necessary loop compensation can be determined.\n",
    "\n",
    "# The uncompensated DC loop gain (TU0) is approximated: Boost\n",
    "TU0 = Dprime*310/(ILED*RLIM)\n",
    "# the pole (ωP1) is approximated: Boost\n",
    "ωP1 = 2/(rD*CO)\n",
    "# the RHP zero (ωZ1) is approximated: Boost\n",
    "ωZ1 = rD*Dprime**2 / L1\n",
    "\n",
    "# For all topologies, the primary method of compensation is to place a low frequency dominant pole (ωP2) which\n",
    "# will ensure that there is ample phase margin at the crossover frequency. This is accomplished by placing a\n",
    "# capacitor (CCMP) from the COMP pin to GND, which is calculated according to the lower value of the pole and the\n",
    "# RHP zero of the system (shown as a minimizing function):\n",
    "ωP2 = min(ωP1, ωZ1) / (5*TU0)\n",
    "CCMP = 1/(ωP2*5e6)\n",
    "# If analog dimming is used, CCMP should be approximately 4x larger to maintain stability as the LEDs are dimmed\n",
    "# to zero.\n",
    "# A high frequency compensation pole (ωP3) can be used to attenuate switching noise and provide better gain\n",
    "# margin. Assuming RFS = 10Ω, CFS is calculated according to the higher value of the pole and the RHP zero of\n",
    "# the system (shown as a maximizing function):\n",
    "RFS = 10 # Ω\n",
    "ωP3 = max(ωP1, ωZ1) * RFS\n",
    "CFS = 1/(RFS*ωP3)\n",
    "print(\"CFS =\", CFS, \"Farads\")"
   ]
  },
  {
   "cell_type": "code",
   "execution_count": 12,
   "metadata": {},
   "outputs": [
    {
     "name": "stdout",
     "output_type": "stream",
     "text": [
      "CIN = 1.75e-06 Farads\n",
      "Use at least 200% of this value, CIN >= 3.5e-06 Farads\n",
      "ICIN_RMS = 0.20207259421636903 Amps\n"
     ]
    }
   ],
   "source": [
    "# Input Capacitance\n",
    "# Set the nominal input voltage ripple (ΔVIN_PP) by solving for the required capacitance (CIN):\n",
    "# Boost:\n",
    "CIN = ΔiL_PP / (8*ΔVIN_PP*fSW)\n",
    "print(\"CIN =\", CIN, \"Farads\")\n",
    "print(\"Use at least 200% of this value, CIN >=\", CIN*2, \"Farads\")\n",
    "# Use DMAX to set the worst case input voltage ripple, when solving for CIN in a buck-boost regulator and DMID = 0.5\n",
    "# when solving for CIN in a buck regulator.\n",
    "# The minimum allowable RMS input current rating (ICIN-RMS) can be approximated:\n",
    "# Boost:\n",
    "ICIN_RMS = ΔiL_PP/math.sqrt(12)\n",
    "print(\"ICIN_RMS =\", ICIN_RMS, \"Amps\")"
   ]
  },
  {
   "cell_type": "code",
   "execution_count": 13,
   "metadata": {},
   "outputs": [
    {
     "name": "stdout",
     "output_type": "stream",
     "text": [
      "IT_MAX >= 3.3000000000000003 Amps\n",
      "IT_RMS = 1.936491673103709 Amps\n",
      "PT = 3.7500000000000018 Watts\n"
     ]
    }
   ],
   "source": [
    "# NFET\n",
    "# The NFET voltage rating should be at least 15% higher than the maximum NFET drain-to-source voltage (VTMAX):\n",
    "# Boost:\n",
    "VTMAX = VO\n",
    "\n",
    "# The current rating should be at least 10% higher than the maximum average NFET current (IT-MAX):\n",
    "# Boost and Buck-Boost:\n",
    "IT_MAX = DMAX/(1-DMAX)*ILED * 1.1\n",
    "print(\"IT_MAX >=\", IT_MAX, \"Amps\")\n",
    "# Approximate the nominal RMS transistor current (IT-RMS) :\n",
    "# Boost and Buck-Boost:\n",
    "IT_RMS = ILED/Dprime*math.sqrt(D)\n",
    "print(\"IT_RMS =\", IT_RMS, \"Amps\")\n",
    "# Given an NFET with on-resistance (RDS-ON), solve for the nominal power dissipation (PT):\n",
    "RDS_ON = 1 # Ohm\n",
    "PT = IT_RMS**2 * RDS_ON\n",
    "print(\"PT =\", PT, \"Watts\")\n"
   ]
  },
  {
   "cell_type": "code",
   "execution_count": 14,
   "metadata": {},
   "outputs": [
    {
     "name": "stdout",
     "output_type": "stream",
     "text": [
      "VRD_MAX >= 41.4 Volts\n",
      "ID_MAX >= 1.1 Volts\n",
      "PD >= 1.32 Watts\n"
     ]
    }
   ],
   "source": [
    "# Diode\n",
    "# The Schottky diode voltage rating should be at least 15% higher than the maximum blocking voltage (VRD-MAX):\n",
    "# Boost:\n",
    "VRD_MAX = VO * 1.15\n",
    "print(\"VRD_MAX >=\", VRD_MAX, \"Volts\")\n",
    "# The current rating should be at least 10% higher than the maximum average diode current (ID-MAX):\n",
    "# Boost and Buck-Boost:\n",
    "ID_MAX = ILED * 1.1\n",
    "print(\"ID_MAX >=\", ID_MAX, \"Volts\")\n",
    "# Replace DMAX with D in the ID-MAX equation to solve for the average diode current (ID). Given a diode with forward\n",
    "# voltage (VFD), solve for the nominal power dissipation (PD):\n",
    "VFD = 1.2 # Volts\n",
    "PD = ID_MAX * VFD\n",
    "print(\"PD >=\", PD, \"Watts\")"
   ]
  },
  {
   "cell_type": "code",
   "execution_count": 15,
   "metadata": {},
   "outputs": [
    {
     "name": "stdout",
     "output_type": "stream",
     "text": [
      "ROV1 = 60784.31372549019 Ohms\n",
      "round to 60.4 or 61.2 kOhms\n",
      "ROV2 = 1899999.9999999998 Ohms\n",
      "round to 189 or 191 kOhms\n",
      "COV = 4.7e-11 Farads\n"
     ]
    }
   ],
   "source": [
    "# Output OVLO\n",
    "# For boost and buck-boost regulators, output OVLO is programmed with the turn-off threshold voltage (VTURN-OFF)\n",
    "# and the desired hysteresis (VHYSO). To set VHYSO, solve for ROV2:\n",
    "ROV2 = VHYSO/20e-6\n",
    "# To set VTURN-OFF, solve for ROV1:\n",
    "# Boost:\n",
    "ROV1 = 1.24 * ROV2 / (VTURN_OFF - 1.24)\n",
    "print(\"ROV1 =\", ROV1, \"Ohms\")\n",
    "print(\"round to 60.4 or 61.2 kOhms\")\n",
    "print(\"ROV2 =\", ROV2, \"Ohms\")\n",
    "print(\"round to 189 or 191 kOhms\")\n",
    "# A small filter capacitor (COVP = 47 pF) should be added from the OVP pin to ground to reduce coupled switching\n",
    "# noise.\n",
    "COV = 47e-12\n",
    "print(\"COV =\", COV, \"Farads\")"
   ]
  },
  {
   "cell_type": "code",
   "execution_count": 17,
   "metadata": {},
   "outputs": [
    {
     "name": "stdout",
     "output_type": "stream",
     "text": [
      "RUV1 = 1339.0928725701945 Ohms\n",
      "RUV2 = 10000 Ohms\n",
      "RUVH = 16533.333333333332 Ohms\n"
     ]
    }
   ],
   "source": [
    "# Input Undervoltage Lockout (UVLO)\n",
    "# Input UVLO characteristics: VTURN_ON, VHYS\n",
    "# For all topologies, input UVLO is programmed with the turn-on threshold voltage (VTURN-ON) and the desired\n",
    "# hysteresis (VHYS).\n",
    "# Method 2: If PWM dimming is required, a three resistor network is suggested. To set VTURN-ON, assume RUV2 =\n",
    "# 10 kΩ and solve for RUV1 as in Method 1. To set VHYS, solve for RUVH:\n",
    "RUV2 = 10000\n",
    "RUV1 = 1.24*RUV2/(VTURN_ON-1.24)\n",
    "RUVH = RUV1*(VHYS - 20e-6 * RUV2) / (20e-6 * (RUV1 + RUV2))\n",
    "print(\"RUV1 =\", RUV1, \"Ohms\")\n",
    "print(\"RUV2 =\", RUV2, \"Ohms\")\n",
    "print(\"RUVH =\", RUVH, \"Ohms\")"
   ]
  }
 ],
 "metadata": {
  "kernelspec": {
   "display_name": "Python 3",
   "language": "python",
   "name": "python3"
  },
  "language_info": {
   "codemirror_mode": {
    "name": "ipython",
    "version": 3
   },
   "file_extension": ".py",
   "mimetype": "text/x-python",
   "name": "python",
   "nbconvert_exporter": "python",
   "pygments_lexer": "ipython3",
   "version": "3.6.2"
  }
 },
 "nbformat": 4,
 "nbformat_minor": 2
}
