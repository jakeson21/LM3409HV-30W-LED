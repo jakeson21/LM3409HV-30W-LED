{
 "cells": [
  {
   "cell_type": "code",
   "execution_count": 24,
   "metadata": {},
   "outputs": [
    {
     "name": "stdout",
     "output_type": "stream",
     "text": [
      "R1 = 76048.78048780488 ohms\n",
      "DMAX =  0.7743271221532091\n",
      "DMIN =  0.7743271221532091\n",
      "D =  0.7743271221532091\n",
      "LMIN = 77.37999999999998 uH\n",
      "PD = 3.04236613079707 W\n",
      "TJ = 138.48281457789744 °C\n"
     ]
    }
   ],
   "source": [
    "VREF = 1.23 # V\n",
    "R2 = 2e3\n",
    "VOUT = 48 # V\n",
    "R1 = R2 * (VOUT/VREF - 1)\n",
    "print('R1 =', R1, 'ohms')\n",
    "\n",
    "VSAT = 0.2 # for 1A draw\n",
    "VF = 0.5 # 0.5V for Schottky diodes and 0.8V for fast recovery diodes\n",
    "VINmin = 11.1\n",
    "DMAX = (VOUT + VF - VINmin) / (VOUT + VF - VSAT)\n",
    "print('DMAX = ', D)\n",
    "VINmax = 16.8\n",
    "DMIN = (VOUT + VF - VINmax) / (VOUT + VF - VSAT)\n",
    "print('DMIN = ', D)\n",
    "\n",
    "VIN = 11.1 # V\n",
    "ILOAD = 1 # A\n",
    "D = (VOUT + VF - VIN) / (VOUT + VF - VSAT)\n",
    "print('D = ', D)\n",
    "\n",
    "LMIN = 2.92 * (VINmin - VSAT) * (2*DMAX-1) / (1-DMAX) # uH\n",
    "print('LMIN =', LMIN, 'uH')\n",
    "\n",
    "PD = 0.15 * (ILOAD/(1-D))**2 * D + ILOAD/(50*(1-D))*D*VIN\n",
    "print('PD =', PD, 'W')\n",
    "\n",
    "# the maximum junction temperature should be selected as 110°C\n",
    "θJA = 35 # °C/W, for no external heat sink and 0.4896 square inches of 0.0014 in. thick copper (3.6 times the area of DDPAK package) \n",
    "ΔTJ = PD * θJA\n",
    "TA = 32 # °C\n",
    "TJ = ΔTJ + TA\n",
    "print('TJ =', TJ, '°C')\n"
   ]
  }
 ],
 "metadata": {
  "kernelspec": {
   "display_name": "Python 3",
   "language": "python",
   "name": "python3"
  },
  "language_info": {
   "codemirror_mode": {
    "name": "ipython",
    "version": 3
   },
   "file_extension": ".py",
   "mimetype": "text/x-python",
   "name": "python",
   "nbconvert_exporter": "python",
   "pygments_lexer": "ipython3",
   "version": "3.6.2"
  }
 },
 "nbformat": 4,
 "nbformat_minor": 2
}
