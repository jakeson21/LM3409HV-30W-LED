{
 "cells": [
  {
   "cell_type": "code",
   "execution_count": 2,
   "metadata": {
    "collapsed": true
   },
   "outputs": [],
   "source": [
    "from IPython.display import Math\n",
    "import math"
   ]
  },
  {
   "cell_type": "code",
   "execution_count": 158,
   "metadata": {
    "collapsed": true
   },
   "outputs": [],
   "source": [
    "# TPS92515HV-Q1 2-A, Buck LED Driver with Integrated N-channel FET\n",
    "# Design Specifications\n",
    "# • Buck converter topology\n",
    "# • Input voltage: 42-46 V\n",
    "# • Output voltage: 36 V\n",
    "# • Output current 1 A\n",
    "# • PWM Dimming\n",
    "\n",
    "# INPUT CHARACTERISTICS\n",
    "VIN = 64 # Input voltage range, Volts. Max switching frequency is reached at max input voltage for fixed out voltage\n",
    "VULVO = 42 # Input UVLO setting, Volts\n",
    "VUVLO_HYST = 5 # Input UVLO hysteresis, Volts\n",
    "\n",
    "# OUTPUT CHARACTERISTICS\n",
    "VFLED = 36 # LED forward voltage, Volts\n",
    "n = 1 # Number of LEDs in series\n",
    "VLED = n*VFLED # Output voltage, Volts\n",
    "ILED = 1 # Output current, Amp\n",
    "PMAX = 40 # Maximum output power, Watts\n",
    "\n",
    "# SYSTEMS CHARACTERISTICS\n",
    "ΔILEDpk_pk = 0.10 # LED current ripple, fractional\n",
    "ΔILpk_pk = 0.20 # Inductor current ripple, fractional\n",
    "ΔVIN_PP = 1 # Input voltage ripple, Volts. Must not exceed 10% of the input voltage (VIN) or 2 V, whichever is lower.\n",
    "fSW = 800e3 # Switching frequency, Hz"
   ]
  },
  {
   "cell_type": "code",
   "execution_count": 159,
   "metadata": {},
   "outputs": [
    {
     "name": "stdout",
     "output_type": "stream",
     "text": [
      "D = 62.5 % duty cycle\n"
     ]
    }
   ],
   "source": [
    "# Calculating Duty Cycle\n",
    "# Start with an efficiency of η estimation of 0.9.\n",
    "η = 0.9\n",
    "D = VLED/(VIN*η)\n",
    "print(\"D =\", D*100, \"% duty cycle\")"
   ]
  },
  {
   "cell_type": "code",
   "execution_count": 160,
   "metadata": {},
   "outputs": [
    {
     "name": "stdout",
     "output_type": "stream",
     "text": [
      "tOFF = 0.4687500000000001 μs\n"
     ]
    }
   ],
   "source": [
    "# Calculate OFF-Time Estimate\n",
    "# use the switching period T to derive the OFF-time (tOFF)\n",
    "T = 1/fSW\n",
    "tOFF = 1/fSW*(1-D)\n",
    "print(\"tOFF =\", tOFF/1e-6, \"μs\")"
   ]
  },
  {
   "cell_type": "code",
   "execution_count": 161,
   "metadata": {},
   "outputs": [
    {
     "name": "stdout",
     "output_type": "stream",
     "text": [
      "COFF = 470.00000000000006 pF\n",
      "ROFF = 35.403243807815166 kΩ\n"
     ]
    }
   ],
   "source": [
    "# Calculate OFF-Time Resistor ROFF\n",
    "# Select a COFF between 100 pF and 1 nF. The preferred value is 470 pF. The EC table specifies the OFF-time\n",
    "# threshold (VOFT) at 1 V.\n",
    "COFF = 470e-12 # 470 pF\n",
    "VOFT = 1 # V\n",
    "ROFF = tOFF/(-COFF*math.log(1-VOFT/VLED))\n",
    "print(\"COFF =\", COFF/1e-12, \"pF\")\n",
    "print(\"ROFF =\", ROFF/1e3, \"kΩ\")"
   ]
  },
  {
   "cell_type": "code",
   "execution_count": 162,
   "metadata": {},
   "outputs": [
    {
     "name": "stdout",
     "output_type": "stream",
     "text": [
      "ΔIL_PP = 0.2 V\n",
      "L = 84.37500000000003 μH\n"
     ]
    }
   ],
   "source": [
    "# Calculate the Inductance Value\n",
    "ΔIL_PP = ILED*ΔILpk_pk\n",
    "L = VLED*tOFF/ΔIL_PP\n",
    "print(\"ΔIL_PP =\", ΔIL_PP, \"V\")\n",
    "print(\"L =\", L/1e-6, \"μH\")"
   ]
  },
  {
   "cell_type": "code",
   "execution_count": 163,
   "metadata": {},
   "outputs": [
    {
     "name": "stdout",
     "output_type": "stream",
     "text": [
      "RSNS = 0.21818181818181814 Ω\n"
     ]
    }
   ],
   "source": [
    "# Calculate the Sense Resistance\n",
    "# Always use the highest VIADJ voltage that the application allows. Do not exceed 5.5 V. A value higher than 2.4 V\n",
    "# is clamped to 2.4 V. Refer back to Analog Adjust Input for details\n",
    "VIADJ = 2.4\n",
    "RSNS = (VIADJ/10)/(ILED+ΔIL_PP/2)\n",
    "print(\"RSNS =\", RSNS, \"Ω\")"
   ]
  },
  {
   "cell_type": "code",
   "execution_count": 164,
   "metadata": {},
   "outputs": [
    {
     "name": "stdout",
     "output_type": "stream",
     "text": [
      "CIN_MIN ≥ 0.7812500000000001 μF\n"
     ]
    }
   ],
   "source": [
    "# Calculate Input Capacitance\n",
    "# NOTE: Inductor ripple current (ΔVIN-PP) must not exceed 10% of the input voltage (VIN) or 2 V,\n",
    "# whichever is lower.\n",
    "# For example, VIN = 65 V, 65 x 0.1 = 6.5 V; the maximum ΔVIN-PP remains 2 V.\n",
    "CIN_MIN = ILED*(1/fSW-tOFF)/ΔVIN_PP\n",
    "print(\"CIN_MIN ≥\", CIN_MIN/1e-6, \"μF\")"
   ]
  },
  {
   "cell_type": "code",
   "execution_count": 165,
   "metadata": {},
   "outputs": [
    {
     "name": "stdout",
     "output_type": "stream",
     "text": [
      "ILPEAK = 1.1 A\n"
     ]
    }
   ],
   "source": [
    "# Verify Peak Current for Inductor Selection\n",
    "# When selecting in inductor consider these three specifications.\n",
    "# • the required inductance\n",
    "# • the average current rating\n",
    "# • the peak current rating\n",
    "ILPEAK = (VIADJ/10)/RSNS\n",
    "print(\"ILPEAK =\", ILPEAK, \"A\")"
   ]
  },
  {
   "cell_type": "code",
   "execution_count": 166,
   "metadata": {},
   "outputs": [
    {
     "name": "stdout",
     "output_type": "stream",
     "text": [
      "ΔILED_PP = 0.1 A\n",
      "CO ≥ 0.994718394324346 μF\n"
     ]
    }
   ],
   "source": [
    "# Calculate Output Capacitance\n",
    "# Solve for rD, using the slope of the tangent line, then multiply by the number of LEDs.\n",
    "rD = 0.2 # Ohms. guessed from LED spec sheet\n",
    "ΔILED_PP = ILED*ΔILEDpk_pk\n",
    "CO = (ΔIL_PP-ΔILED_PP)/(ΔILED_PP*2*math.pi*fSW*rD)\n",
    "print(\"ΔILED_PP =\", ΔILED_PP, \"A\")\n",
    "print(\"CO ≥\", CO/1e-6, \"μF\")"
   ]
  },
  {
   "cell_type": "code",
   "execution_count": 167,
   "metadata": {},
   "outputs": [
    {
     "name": "stdout",
     "output_type": "stream",
     "text": [
      "R2 = 39999.999999999985 Ω\n",
      "R3 = 975.6097560975606 Ω\n"
     ]
    }
   ],
   "source": [
    "# Calculate UVLO Resistance Values\n",
    "R3 = (VUVLO_HYST-(0.1*VULVO))/(20e-6*(VULVO-1))\n",
    "R2 = (VULVO-1)*R3\n",
    "print(\"R2 =\", R2, \"Ω\")\n",
    "print(\"R3 =\", R3, \"Ω\")"
   ]
  },
  {
   "cell_type": "code",
   "execution_count": null,
   "metadata": {
    "collapsed": true
   },
   "outputs": [],
   "source": []
  }
 ],
 "metadata": {
  "kernelspec": {
   "display_name": "Python 3",
   "language": "python",
   "name": "python3"
  },
  "language_info": {
   "codemirror_mode": {
    "name": "ipython",
    "version": 3
   },
   "file_extension": ".py",
   "mimetype": "text/x-python",
   "name": "python",
   "nbconvert_exporter": "python",
   "pygments_lexer": "ipython3",
   "version": "3.6.2"
  }
 },
 "nbformat": 4,
 "nbformat_minor": 2
}
